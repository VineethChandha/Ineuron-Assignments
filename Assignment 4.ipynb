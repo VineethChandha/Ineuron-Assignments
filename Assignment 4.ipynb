{
 "cells": [
  {
   "cell_type": "markdown",
   "metadata": {},
   "source": [
    "1.1 Write a Python Program(with class concepts) to find the area of the triangle using the below formula.\n",
    "area = (s*(s-a)*(s-b)*(s-c)) ** 0.5\n",
    "Function to take the length of the sides of triangle from user should be defined in the parent class and function to calculate the area should be defined in subclass."
   ]
  },
  {
   "cell_type": "code",
   "execution_count": 1,
   "metadata": {},
   "outputs": [
    {
     "name": "stdout",
     "output_type": "stream",
     "text": [
      "Enter the 1st side lenght:5\n",
      "Enter the 2st side lenght:5\n",
      "Enter the 3st side lenght:5\n",
      "10.825317547305483\n"
     ]
    }
   ],
   "source": [
    "class triangle:\n",
    "    def __init__(self):\n",
    "        self.a = int(input('Enter the 1st side lenght:'))\n",
    "        self.b = int(input('Enter the 2st side lenght:'))\n",
    "        self.c = int(input('Enter the 3st side lenght:'))\n",
    "        \n",
    "class area(triangle):\n",
    "    def __init__(self):\n",
    "        super().__init__()\n",
    "        s = (self.a + self.b + self.c)/2\n",
    "        print((s*(s-self.a)*(s-self.b)*(s-self.c))**0.5)\n",
    "         \n",
    "my = area()\n",
    " "
   ]
  },
  {
   "cell_type": "markdown",
   "metadata": {},
   "source": [
    "1.2 Write a function filter_long_words() that takes a list of words and an integer n and returns the list of words that are longer than n."
   ]
  },
  {
   "cell_type": "code",
   "execution_count": 3,
   "metadata": {},
   "outputs": [
    {
     "name": "stdout",
     "output_type": "stream",
     "text": [
      "Enter the the element to the list:hi\n",
      "Enter the the element to the list:hello\n",
      "Enter the the element to the list:vineeth\n",
      "Enter the the element to the list:vin\n",
      "Enter the the element to the list:\n",
      "Enter the interger to filter the words longer then it:3\n",
      "['hello', 'vineeth']\n"
     ]
    }
   ],
   "source": [
    "def filter_long_words(words,n):\n",
    "    p = []\n",
    "    for x in words:\n",
    "        if len(x) > n:\n",
    "            p.append(x)\n",
    "    return p\n",
    "listofwords = []\n",
    "while True:\n",
    "    a = input('Enter the the element to the list:')\n",
    "    listofwords.append(a)\n",
    "    if len(a)<1:\n",
    "        break\n",
    "        \n",
    "c = int(input('Enter the interger to filter the words longer then it:'))\n",
    "\n",
    "print(filter_long_words(listofwords,c))\n",
    "    "
   ]
  },
  {
   "cell_type": "markdown",
   "metadata": {},
   "source": [
    "2.1 Write a Python program using function concept that maps list of words into a list of integers representing the lengths of the corresponding words."
   ]
  },
  {
   "cell_type": "markdown",
   "metadata": {},
   "source": [
    "Hint: If a list [ ab,cde,erty] is passed on to the python function output should come as [2,3,4] Here 2,3 and 4 are the lengths of the words in the list."
   ]
  },
  {
   "cell_type": "code",
   "execution_count": null,
   "metadata": {},
   "outputs": [],
   "source": [
    "def map_list(l):\n",
    "    p = []\n",
    "    for x in l:\n",
    "        p.append(len(x))\n",
    "    return p\n",
    "\n",
    "print(map_list(['hi','hello','inuron','assignment']))"
   ]
  },
  {
   "cell_type": "markdown",
   "metadata": {},
   "source": [
    "2.2 Write a Python function which takes a character (i.e. a string of length 1) and returns True if it is a vowel, False otherwise."
   ]
  },
  {
   "cell_type": "code",
   "execution_count": null,
   "metadata": {},
   "outputs": [],
   "source": [
    "def check(n):\n",
    "    if n in ['A','E','I','O','U','a','e','i','o','u']:\n",
    "        return True\n",
    "    else:\n",
    "        return False\n",
    "while True:\n",
    "    l = input('Enter the character:')\n",
    "    print(check(l))\n",
    "    "
   ]
  },
  {
   "cell_type": "code",
   "execution_count": null,
   "metadata": {},
   "outputs": [],
   "source": [
    "while True:\n",
    "    if len(l)<1:\n",
    "        break\n",
    "    l = input('Enter the character')\n",
    "    check(l)\n",
    "    "
   ]
  }
 ],
 "metadata": {
  "kernelspec": {
   "display_name": "Python 3",
   "language": "python",
   "name": "python3"
  },
  "language_info": {
   "codemirror_mode": {
    "name": "ipython",
    "version": 3
   },
   "file_extension": ".py",
   "mimetype": "text/x-python",
   "name": "python",
   "nbconvert_exporter": "python",
   "pygments_lexer": "ipython3",
   "version": "3.8.3"
  }
 },
 "nbformat": 4,
 "nbformat_minor": 4
}
